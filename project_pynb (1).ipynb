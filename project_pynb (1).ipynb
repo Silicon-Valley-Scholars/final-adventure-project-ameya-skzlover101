{
  "nbformat": 4,
  "nbformat_minor": 0,
  "metadata": {
    "colab": {
      "provenance": []
    },
    "kernelspec": {
      "name": "python3",
      "display_name": "Python 3"
    },
    "language_info": {
      "name": "python"
    }
  },
  "cells": [
    {
      "cell_type": "code",
      "source": [
        "import numpy as np\n",
        "name = input(\"Enter your name, first and last\")\n",
        "print(\"It is 1861, the time of the Civil War!\")\n",
        "print(\"It is a dangerous time for 2 people, much less a group.\")\n",
        "print(\"You and your best friend are running for your lives and on the way you encounter your others hiding from the war. Their names are Felix, Hyunjin, I.N, Bang Chan, HAN, Lee Know, Seungmin, and Changbin.\")\n",
        "print(2 * 8)\n",
        "name = input(\"Enter best friend name, first and last\")\n",
        "print(\"One night, when you along with the 8 more people you encountered, are hiding in an abandond department store and all of a sudden, there is a gunshot.\")\n",
        "print(\"You relize that your best friend was on watch\")\n",
        "print(\"YOU CHOOSE WHAT HAPPENS NEXT!!!\")\n",
        "print(\"What do you do?\")\n",
        "print(\"1. Go check on your best friend.\")\n",
        "print(\"2. Stay put and wait.\")\n",
        "print(\"3. Quietly wake up Bang Chan and ask for help.\")\n",
        "choixw = input(\"Enter the number of your choice: \")\n",
        "if choixw == \"1\":\n",
        "  print(\"\\nYou cautiously move towards where your best friend is on watch.\")\n",
        "  print(\"Your best friend, weakly says\", \"Carry on without me. Here take my stuff you'll need it.\")\n",
        "  print(\"You stare in the direction your friend is in and tears stream down your face\")\n",
        "  print(\"END. You were shot in the back by I.N\")\n",
        "  print(\"You have failed to find the escape route.\")\n",
        "  input(\"press enter to exit.\")\n",
        "elif choixw == \"2\":\n",
        "  print(\"\\nYou decide to stay put and listen carefully...\")\n",
        "  print(\"You hear footsteps coming closer, stopping once, only to reload their gun...\")\n",
        "  print(\"You decide to take action. You grab your own gun and step out.\")\n",
        "  print(\"1. Shoot Felix. He is the one supposed to be protecting your best friend\")\n",
        "  print(\"2. Shoot Hyunjin. You think he's the one who killed your best firend when he got up to get some food.\")\n",
        "  print(\"3. Shoot I.N. He is a double agent. He was participating in the war and was missioned to everyone.\")\n",
        "  print(\"4. Shoot Bang Chan. Your brother who you were incredibly mad at.\")\n",
        "  choix_IN = input(\"Enter the number of your choice: \")\n",
        "  if choix_IN == \"1\":\n",
        "    print(\"Felix is now dead and the others are horrified.\")\n",
        "  print(\"END. You were shot in the back by Changbin\")\n",
        "  print(\"You have failed to find the escape route.\")\n",
        "  input(\"press enter to exit.\")\n",
        "  if choix_IN == \"2\":\n",
        "    print(\"Hyunjin is now dead and the others hate you.\")\n",
        "  print(\"END. You were shot in the back by Seungmin\")\n",
        "  print(\"You have failed to find the escape route.\")\n",
        "  input(\"press enter to exit.\")\n",
        "  if choix_IN == \"3\":\n",
        "   print(\"I.N is now dead and the others are scared.\")\n",
        "  print(\"END. You were shot in the back by HAN\")\n",
        "  print(\"You have failed to find the escape route.\")\n",
        "  input(\"press enter to exit.\")\n",
        "if choix_IN == \"4\":\n",
        "  print(\"Bang Chan is now dead and the others are scared.\")\n",
        "  print(\"END. You were shot in the back by Lee Know\")\n",
        "  print(\"You have failed to find the escape route.\")\n",
        "  input(\"press enter to exit.\")\n",
        "elif choixw == \"3\":\n",
        "  print(\"\\nYou carefully crawl over to where Bang Chan is sleeping and gently shake him awake\")\n",
        "  print(\"\\nBang Chan quietly moves towards where your best friend is on watch\")\n",
        "  print(\"Hey, its ok. You're going to be fine. its fine.\")\n",
        "  print(\"He comes back with tears in his eyes and you know what happend.\")\n",
        "else:\n",
        "  print(\"What do you both do?\")\n",
        "  print(\"1. Both of you go to check on your best friend.\")\n",
        "  print(\"2. Bang Chan goes alone to check on your best friend while you stay put.\")\n",
        "  print(\"3. Both of you quietly look for a different escape route.\")\n",
        "  choix_bangchan = input(\"Enter the number of your choice: \")\n",
        "  if choix_bangchan == \"1\":\n",
        "    print(\"\\nYou and Bang Chan cautiously move towards where your best friend is on watch\")\n",
        "    print(\"Your best friend, weakly says\", \"Carry on without me. Here take my stuff you'll need it.\")\n",
        "    print(\"You stare in the direction your friend is in and tears stream down your face\")\n",
        "  elif choix_bangchan == \"3\":\n",
        "    print(\"\\nYou and Bang Chan quietly begin searching for another way out of the department store.\")\n",
        "    print(\"There is a vent large enough to fit people in and it leads out of the store.\")\n",
        "    print(\"You and the other 8 people make it out safely without being caught.\")\n",
        "  input(\"Press enter to exit\")\n",
        "  print(\"END\")\n",
        "  print(\"You have succesfully found the escape route.\")\n",
        "  input(\"press enter to play again.\")\n",
        "\n"
      ],
      "metadata": {
        "colab": {
          "base_uri": "https://localhost:8080/"
        },
        "id": "TYv_s5gNbfld",
        "outputId": "ea382737-e0f4-46cc-b356-a4d8cf6a2808"
      },
      "execution_count": null,
      "outputs": [
        {
          "name": "stdout",
          "output_type": "stream",
          "text": [
            "Enter your name, first and last ameya\n",
            "It is 1861, the time of the Civil War!\n",
            "It is a dangerous time for 2 people, much less a group.\n",
            "You and your best friend are running for your lives and on the way you encounter your others hiding from the war. Their names are Felix, Hyunjin, I.N, Bang Chan, HAN, Lee Know, Seungmin, and Changbin.\n",
            "16\n",
            "Enter best friend name, first and lastarshi\n",
            "One night, when you along with the 8 more people you encountered, are hiding in an abandond department store and all of a sudden, there is a gunshot.\n",
            "You relize that your best friend was on watch\n",
            "YOU CHOOSE WHAT HAPPENS NEXT!!!\n",
            "What do you do?\n",
            "1. Go check on your best friend.\n",
            "2. Stay put and wait.\n",
            "3. Quietly wake up Bang Chan and ask for help.\n",
            "Enter the number of your choice: 2\n",
            "\n",
            "You decide to stay put and listen carefully...\n",
            "You hear footsteps coming closer, stopping once, only to reload their gun...\n",
            "You decide to take action. You grab your own gun and step out.\n",
            "1. Shoot Felix. He is the one supposed to be protecting your best friend\n",
            "2. Shoot Hyunjin. You think he's the one who killed your best firend when he got up to get some food.\n",
            "3. Shoot I.N. He is a double agent. He was participating in the war and was missioned to everyone.\n",
            "4. Shoot Bang Chan. Your brother who you were incredibly mad at.\n",
            "Enter the number of your choice: 4\n",
            "END. You were shot in the back by Changbin\n",
            "You have failed to find the escape route.\n",
            "press enter to exit.\n",
            "END. You were shot in the back by Seungmin\n",
            "You have failed to find the escape route.\n",
            "press enter to exit.\n",
            "END. You were shot in the back by HAN\n",
            "You have failed to find the escape route.\n",
            "press enter to exit.\n",
            "Bang Chan is now dead and the others are scared.\n",
            "END. You were shot in the back by Lee Know\n",
            "You have failed to find the escape route.\n",
            "press enter to exit.\n"
          ]
        }
      ]
    },
    {
      "cell_type": "markdown",
      "source": [],
      "metadata": {
        "id": "3ykADHWgxi4P"
      }
    }
  ]
}